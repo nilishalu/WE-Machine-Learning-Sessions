{
  "nbformat": 4,
  "nbformat_minor": 0,
  "metadata": {
    "colab": {
      "provenance": [],
      "authorship_tag": "ABX9TyOghd4dK4t7NTbpAmVI8ZN+",
      "include_colab_link": true
    },
    "kernelspec": {
      "name": "python3",
      "display_name": "Python 3"
    },
    "language_info": {
      "name": "python"
    }
  },
  "cells": [
    {
      "cell_type": "markdown",
      "metadata": {
        "id": "view-in-github",
        "colab_type": "text"
      },
      "source": [
        "<a href=\"https://colab.research.google.com/github/nilishalu/WE-Machine-Learning-Sessions/blob/main/Sessions/WE_20221125.ipynb\" target=\"_parent\"><img src=\"https://colab.research.google.com/assets/colab-badge.svg\" alt=\"Open In Colab\"/></a>"
      ]
    },
    {
      "cell_type": "code",
      "execution_count": 2,
      "metadata": {
        "id": "XxLCz6L1JFvI"
      },
      "outputs": [],
      "source": [
        "import numpy as np\n",
        "import math"
      ]
    },
    {
      "cell_type": "code",
      "source": [
        "def find_dist_between_samples(sample, x1s, x2s):\n",
        "  dist = []\n",
        "  for i in range(len(x1s)):\n",
        "    d_square = pow(x1s[i] - sample[0], 2) + pow(x2s[i] - sample[1], 2)\n",
        "    dist.append(math.sqrt(d_square))\n",
        "  return dist"
      ],
      "metadata": {
        "id": "xc8k__tLJmOc"
      },
      "execution_count": 9,
      "outputs": []
    },
    {
      "cell_type": "code",
      "source": [
        "x1s = [0.320, 0.310, 0.200, 0.400]\n",
        "x2s = [0.8, 0.7, 0.2, 0.3]\n",
        "\n",
        "sample = [0.320, 0.8]\n",
        "\n",
        "dist = find_dist_between_samples(sample, x1s, x2s)"
      ],
      "metadata": {
        "id": "fzIrjp_CJN97"
      },
      "execution_count": 12,
      "outputs": []
    },
    {
      "cell_type": "code",
      "source": [
        "print(dist) #When weight is in grams, then the first weight will decide the distance, thus features should be scaled "
      ],
      "metadata": {
        "colab": {
          "base_uri": "https://localhost:8080/"
        },
        "id": "jnPBRyFtLpmm",
        "outputId": "5dd1a87b-2281-4a3f-b70b-8b0018235cb0"
      },
      "execution_count": 11,
      "outputs": [
        {
          "output_type": "stream",
          "name": "stdout",
          "text": [
            "[0.0, 10.000499987500625, 120.00149999062512, 80.00156248474151]\n"
          ]
        }
      ]
    },
    {
      "cell_type": "code",
      "source": [
        "print(dist)"
      ],
      "metadata": {
        "colab": {
          "base_uri": "https://localhost:8080/"
        },
        "id": "pqD0ZqbdL-My",
        "outputId": "fb5273e1-1aff-4cb7-8ad9-59ede386342d"
      },
      "execution_count": 13,
      "outputs": [
        {
          "output_type": "stream",
          "name": "stdout",
          "text": [
            "[0.0, 0.10049875621120899, 0.6118823416311343, 0.5063595560468865]\n"
          ]
        }
      ]
    },
    {
      "cell_type": "code",
      "source": [],
      "metadata": {
        "id": "USxLMcmWMU6p"
      },
      "execution_count": null,
      "outputs": []
    }
  ]
}